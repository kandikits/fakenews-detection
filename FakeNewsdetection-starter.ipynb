{
 "cells": [
  {
   "cell_type": "markdown",
   "metadata": {},
   "source": [
    "# FakeNewsDetection"
   ]
  },
  {
   "cell_type": "markdown",
   "metadata": {},
   "source": [
    "In this notebook, we will be solving a use case of 'Fake News Detection' - Predict if a news published in an article is 'True' or 'Fake' for a sample data using ML Algorithms!"
   ]
  },
  {
   "cell_type": "markdown",
   "metadata": {},
   "source": [
    "**Note**: Update variables under **Variables** section if required before running the notebook. To run notebook cell by cell, click on a cell and click **Run** button below the Menu bar. Or to run all cells, select **Cell --> Run** All from Menu bar."
   ]
  },
  {
   "cell_type": "markdown",
   "metadata": {},
   "source": [
    "### Variables"
   ]
  },
  {
   "cell_type": "code",
   "execution_count": 1,
   "metadata": {},
   "outputs": [],
   "source": [
    "#Specify the input filename\n",
    "INPUTFILE=r\"fakenews.csv\"\n",
    "TESTFILE=r\"fakenewstest.csv\"\n",
    "#Specify the ratio of the data to subset for prediction\n",
    "test_data_ratio = 0.20"
   ]
  },
  {
   "cell_type": "markdown",
   "metadata": {},
   "source": [
    "### Import libraries to detect fake news"
   ]
  },
  {
   "cell_type": "code",
   "execution_count": 2,
   "metadata": {},
   "outputs": [
    {
     "name": "stderr",
     "output_type": "stream",
     "text": [
      "[nltk_data] Downloading package punkt to\n",
      "[nltk_data]     C:\\Users\\PoojaAgrawal.AzureAD\\AppData\\Roaming\\nltk_dat\n",
      "[nltk_data]     a...\n",
      "[nltk_data]   Package punkt is already up-to-date!\n",
      "[nltk_data] Downloading package stopwords to\n",
      "[nltk_data]     C:\\Users\\PoojaAgrawal.AzureAD\\AppData\\Roaming\\nltk_dat\n",
      "[nltk_data]     a...\n",
      "[nltk_data]   Package stopwords is already up-to-date!\n"
     ]
    }
   ],
   "source": [
    "from detect import FakeNewsDetection"
   ]
  },
  {
   "cell_type": "markdown",
   "metadata": {},
   "source": [
    "### Training & Prediction"
   ]
  },
  {
   "cell_type": "code",
   "execution_count": 3,
   "metadata": {},
   "outputs": [
    {
     "name": "stdout",
     "output_type": "stream",
     "text": [
      "                                                text  label\n",
      "0  Get the latest from TODAY Sign up for our news...      1\n",
      "1  2d  Conan On The Funeral Trump Will Be Invited...      1\n",
      "2  It’s safe to say that Instagram Stories has fa...      0\n",
      "3  Much like a certain Amazon goddess with a lass...      0\n",
      "4  At a time when the perfect outfit is just one ...      0\n",
      "0.2\n"
     ]
    }
   ],
   "source": [
    "fakenews = FakeNewsDetection(INPUTFILE, test_data_ratio)\n"
   ]
  },
  {
   "cell_type": "code",
   "execution_count": 4,
   "metadata": {
    "scrolled": true
   },
   "outputs": [
    {
     "name": "stdout",
     "output_type": "stream",
     "text": [
      "---Preprocessing data---\n",
      "(4986, 2)\n",
      "(4749, 2)\n",
      "(4749, 2)\n",
      "shape of transform in training is:  (4749, 61653)\n",
      "Splitting data into train and test set\n",
      "---Training the model on train set---\n",
      "Naive Bayes model trained successfully!\n",
      "Classification Metrics for the train set is:\n",
      "\n",
      "              precision    recall  f1-score   support\n",
      "\n",
      "           0       0.99      0.99      0.99      2303\n",
      "           1       0.98      0.98      0.98      1496\n",
      "\n",
      "    accuracy                           0.98      3799\n",
      "   macro avg       0.98      0.98      0.98      3799\n",
      "weighted avg       0.98      0.98      0.98      3799\n",
      "\n"
     ]
    },
    {
     "data": {
      "image/png": "[encoded data removed]",
      "text/plain": [
       "<Figure size 432x288 with 2 Axes>"
      ]
     },
     "metadata": {
      "needs_background": "light"
     },
     "output_type": "display_data"
    },
    {
     "name": "stdout",
     "output_type": "stream",
     "text": [
      "--- Testing the model on the test set---\n",
      "Classification Metrics for the test set is:\n",
      "\n",
      "              precision    recall  f1-score   support\n",
      "\n",
      "           0       0.71      0.82      0.76       578\n",
      "           1       0.63      0.48      0.54       372\n",
      "\n",
      "    accuracy                           0.69       950\n",
      "   macro avg       0.67      0.65      0.65       950\n",
      "weighted avg       0.68      0.69      0.68       950\n",
      "\n"
     ]
    },
    {
     "data": {
      "image/png": "[encoded data removed]",
      "text/plain": [
       "<Figure size 432x288 with 2 Axes>"
      ]
     },
     "metadata": {
      "needs_background": "light"
     },
     "output_type": "display_data"
    },
    {
     "name": "stdout",
     "output_type": "stream",
     "text": [
      "(3799, 61653)\n",
      "(950, 61653)\n",
      "(3799,)\n",
      "(950,)\n"
     ]
    }
   ],
   "source": [
    "fakenews.detect()"
   ]
  },
  {
   "cell_type": "code",
   "execution_count": 5,
   "metadata": {},
   "outputs": [
    {
     "name": "stdout",
     "output_type": "stream",
     "text": [
      "shape of transform in testing is:  (4, 61653)\n",
      "(4, 61653)\n",
      "[[7.23249181e-01 2.76750819e-01]\n",
      " [3.62686714e-01 6.37313286e-01]\n",
      " [4.96989928e-01 5.03010072e-01]\n",
      " [8.84996868e-05 9.99911500e-01]]\n",
      "[0 1]\n"
     ]
    }
   ],
   "source": [
    "fakenews.test_news(TESTFILE)"
   ]
  },
  {
   "cell_type": "markdown",
   "metadata": {},
   "source": [
    "This is a starter notebook for FakeNewsDetection using 'Naive Bayes' model. More detailed analysis can be found in the **'FakeNewsDetection-analysis.ipynb'** notebook in the current directory."
   ]
  }
 ],
 "metadata": {
  "kernelspec": {
   "display_name": "Python 3 (ipykernel)",
   "language": "python",
   "name": "python3"
  },
  "language_info": {
   "codemirror_mode": {
    "name": "ipython",
    "version": 3
   },
   "file_extension": ".py",
   "mimetype": "text/x-python",
   "name": "python",
   "nbconvert_exporter": "python",
   "pygments_lexer": "ipython3",
   "version": "3.9.8"
  }
 },
 "nbformat": 4,
 "nbformat_minor": 4
}
