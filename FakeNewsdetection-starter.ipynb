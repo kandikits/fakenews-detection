{
 "cells": [
  {
   "cell_type": "markdown",
   "metadata": {},
   "source": [
    "# FakeNewsDetection"
   ]
  },
  {
   "cell_type": "markdown",
   "metadata": {},
   "source": [
    "In this notebook, we will be solving a use case of 'Fake News Detection' - Predict if a news published in an article is 'True' or 'Fake' for a sample data using ML Algorithms!"
   ]
  },
  {
   "cell_type": "markdown",
   "metadata": {},
   "source": [
    "**Note**: Update variables under **Variables** section if required before running the notebook. To run notebook cell by cell, click on a cell and click **Run** button below the Menu bar. Or to run all cells, select **Cell --> Run** All from Menu bar."
   ]
  },
  {
   "cell_type": "markdown",
   "metadata": {},
   "source": [
    "### Variables"
   ]
  },
  {
   "cell_type": "code",
   "execution_count": 1,
   "metadata": {},
   "outputs": [],
   "source": [
    "#Specify the input filename\n",
    "TRAINFILE=r\"fake_news_train.csv\"\n",
    "TESTFILE=r\"fake_news_test.csv\"\n",
    "#Specify the ratio of the data to subset for prediction\n",
    "test_data_ratio = 0.20\n",
    "\n",
    "#By default, EXPOSE_AS_API is False. \n",
    "#If it is True then this kit will be exposed as a rest API, and it can be consumed through URL http://127.0.0.1:5000/predict\n",
    "EXPOSE_AS_API=False \n",
    "\n",
    "#By default, TRAIN_MODEL is False and it uses pretrained model(fakenewsmodel.pkl). \n",
    "#If TRAIN_MODEL is True then it uses the training data to build new model which will be used for the prediction.\n",
    "TRAIN_MODEL=False  "
   ]
  },
  {
   "cell_type": "markdown",
   "metadata": {},
   "source": [
    "### Import libraries to detect fake news"
   ]
  },
  {
   "cell_type": "code",
   "execution_count": 2,
   "metadata": {},
   "outputs": [
    {
     "name": "stderr",
     "output_type": "stream",
     "text": [
      "[nltk_data] Downloading package punkt to\n",
      "[nltk_data]     C:\\Users\\LokeshwarG\\AppData\\Roaming\\nltk_data...\n",
      "[nltk_data]   Package punkt is already up-to-date!\n",
      "[nltk_data] Downloading package stopwords to\n",
      "[nltk_data]     C:\\Users\\LokeshwarG\\AppData\\Roaming\\nltk_data...\n",
      "[nltk_data]   Package stopwords is already up-to-date!\n"
     ]
    }
   ],
   "source": [
    "from detect import FakeNewsDetection\n",
    "from app import FakeNewsApiService"
   ]
  },
  {
   "cell_type": "markdown",
   "metadata": {},
   "source": [
    "### Training"
   ]
  },
  {
   "cell_type": "code",
   "execution_count": 3,
   "metadata": {},
   "outputs": [
    {
     "name": "stdout",
     "output_type": "stream",
     "text": [
      "First few lines from the training dataset\n",
      "                                           news_text label\n",
      "0  Get the latest from TODAY Sign up for our news...  fake\n",
      "1  2d  Conan On The Funeral Trump Will Be Invited...  fake\n",
      "2  It’s safe to say that Instagram Stories has fa...  real\n",
      "3  Much like a certain Amazon goddess with a lass...  real\n",
      "4  At a time when the perfect outfit is just one ...  real\n",
      "Training to test data ratio is  0.8  :  0.2\n"
     ]
    }
   ],
   "source": [
    "fakenews = FakeNewsDetection(TRAINFILE, test_data_ratio)"
   ]
  },
  {
   "cell_type": "code",
   "execution_count": 4,
   "metadata": {
    "scrolled": true
   },
   "outputs": [
    {
     "name": "stdout",
     "output_type": "stream",
     "text": [
      "---Preprocessing data---\n",
      "Actual dataframe shape (row X column)  (4986, 2)\n",
      "Dataframe shape after removing duplicates  (4749, 2)\n",
      "Dataframe shape after removal of empty row  (4749, 2)\n",
      "Dataframe shape after preprocessing(eg. special character and stop words removal, stemming, etc.,) is:  (4749, 61653)\n",
      "Splitting data into train and test set completed\n",
      "Training the model (Naive Bayes) on train set started...\n",
      "Model training completed!\n",
      "Classification Metrics for the train set is:\n",
      "\n",
      "              precision    recall  f1-score   support\n",
      "\n",
      "        real       0.91      0.98      0.94      2303\n",
      "        fake       0.96      0.86      0.90      1496\n",
      "\n",
      "    accuracy                           0.93      3799\n",
      "   macro avg       0.94      0.92      0.92      3799\n",
      "weighted avg       0.93      0.93      0.93      3799\n",
      "\n"
     ]
    },
    {
     "data": {
      "image/png": "[encoded data removed]",
      "text/plain": [
       "<Figure size 432x288 with 2 Axes>"
      ]
     },
     "metadata": {
      "needs_background": "light"
     },
     "output_type": "display_data"
    },
    {
     "name": "stdout",
     "output_type": "stream",
     "text": [
      "Testing the model on the test set\n",
      "Classification Metrics for the test set is:\n",
      "\n",
      "              precision    recall  f1-score   support\n",
      "\n",
      "        real       0.76      0.92      0.83       578\n",
      "        fake       0.82      0.54      0.65       372\n",
      "\n",
      "    accuracy                           0.77       950\n",
      "   macro avg       0.79      0.73      0.74       950\n",
      "weighted avg       0.78      0.77      0.76       950\n",
      "\n"
     ]
    },
    {
     "data": {
      "image/png": "[encoded data removed]",
      "text/plain": [
       "<Figure size 432x288 with 2 Axes>"
      ]
     },
     "metadata": {
      "needs_background": "light"
     },
     "output_type": "display_data"
    },
    {
     "name": "stdout",
     "output_type": "stream",
     "text": [
      "(3799, 61653)\n",
      "(950, 61653)\n",
      "(3799,)\n",
      "(950,)\n"
     ]
    }
   ],
   "source": [
    "if TRAIN_MODEL:\n",
    "    fakenews.train_model()"
   ]
  },
  {
   "cell_type": "markdown",
   "metadata": {},
   "source": [
    "###  Prediction"
   ]
  },
  {
   "cell_type": "code",
   "execution_count": 5,
   "metadata": {},
   "outputs": [
    {
     "name": "stdout",
     "output_type": "stream",
     "text": [
      "Predicted result is available in  C:\\Users\\LokeshwarG\\Downloads\\fakenews-detection-main\\fake_news_test_output.csv\n"
     ]
    }
   ],
   "source": [
    "fakenews.test_news(TESTFILE)"
   ]
  },
  {
   "cell_type": "markdown",
   "metadata": {},
   "source": [
    "# FakeNewsDetection API Service\n",
    "The following code exposes this solution as a rest API. This feature can be turn on by setting the variable EXPOSE_AS_API=True. Input and output details along with the endpoint URL details are given below."
   ]
  },
  {
   "cell_type": "markdown",
   "metadata": {},
   "source": [
    "#### Prediction API url\n",
    "POST http://127.0.0.1:5000/predict "
   ]
  },
  {
   "cell_type": "markdown",
   "metadata": {},
   "source": [
    "#### API input\n",
    "| Field | Description | Example |\n",
    "| :- | :- | :- |\n",
    "| news_text | News text from the article | \"BGMI not Banned In India; Here's What Google And Krafton Said\" |\n",
    "\n",
    "Example json \n",
    "```\n",
    "{ \n",
    "    \"news_text\": \"BGMI not Banned In India; Here's What Google And Krafton Said\"\n",
    "}\n",
    "```"
   ]
  },
  {
   "cell_type": "markdown",
   "metadata": {},
   "source": [
    "#### API output\n",
    "| Field | Description | Example |\n",
    "|:-- | :-- | :-- |\n",
    "| news_text | News text from the article | \"BGMI not Banned In India; Here's What Google And Krafton Said\" |\n",
    "|fake_label | If the value is 'True' it is Fake news.If the value is 'False' it is real news |\"True\"|\n",
    "|probability | Confidence level of prediction |\"0.79\"|\n",
    "\n",
    "Example json\n",
    "```\n",
    "{\n",
    "    \"fake_label\": \"True\",\n",
    "    \"news_text\": \"BGMI not Banned In India; Here's What Google And Krafton Said\",\n",
    "    \"probability\": 0.79\n",
    "}\n",
    "```"
   ]
  },
  {
   "cell_type": "code",
   "execution_count": 6,
   "metadata": {},
   "outputs": [
    {
     "name": "stdout",
     "output_type": "stream",
     "text": [
      " * Serving Flask app \"app\" (lazy loading)\n",
      " * Environment: production\n",
      "   WARNING: This is a development server. Do not use it in a production deployment.\n",
      "   Use a production WSGI server instead.\n",
      " * Debug mode: on\n"
     ]
    },
    {
     "name": "stderr",
     "output_type": "stream",
     "text": [
      " * Running on http://127.0.0.1:5000/ (Press CTRL+C to quit)\n"
     ]
    }
   ],
   "source": [
    "if EXPOSE_AS_API:\n",
    "    api=FakeNewsApiService()\n",
    "    api.start()"
   ]
  },
  {
   "cell_type": "markdown",
   "metadata": {},
   "source": [
    "This is a starter notebook for FakeNewsDetection using 'Naive Bayes' model. More detailed analysis can be found in the **'FakeNewsDetection-analysis.ipynb'** notebook in the current directory."
   ]
  },
  {
   "cell_type": "code",
   "execution_count": null,
   "metadata": {},
   "outputs": [],
   "source": []
  }
 ],
 "metadata": {
  "kernelspec": {
   "display_name": "Python 3 (ipykernel)",
   "language": "python",
   "name": "python3"
  },
  "language_info": {
   "codemirror_mode": {
    "name": "ipython",
    "version": 3
   },
   "file_extension": ".py",
   "mimetype": "text/x-python",
   "name": "python",
   "nbconvert_exporter": "python",
   "pygments_lexer": "ipython3",
   "version": "3.9.7"
  }
 },
 "nbformat": 4,
 "nbformat_minor": 4
}
